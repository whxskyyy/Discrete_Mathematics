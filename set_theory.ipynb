{
 "cells": [
  {
   "cell_type": "markdown",
   "id": "4c2c899b",
   "metadata": {},
   "source": [
    "# 1.  Proving Identities"
   ]
  },
  {
   "cell_type": "markdown",
   "id": "c0f77fa0",
   "metadata": {},
   "source": [
    "## Given:"
   ]
  },
  {
   "cell_type": "markdown",
   "id": "09a008b5",
   "metadata": {},
   "source": [
    "$\\textbf{A}$ and $\\textbf{B}$ are sets, $\\exists  |\n",
    "( x \\in \\textbf{A}$  $\\land x \\in \\textbf{B}$)\n"
   ]
  },
  {
   "cell_type": "markdown",
   "id": "b121097a",
   "metadata": {},
   "source": [
    "---"
   ]
  },
  {
   "cell_type": "markdown",
   "id": "ed7c5f71",
   "metadata": {},
   "source": [
    "### 1.1 $A \\setminus B = A \\cap B^c$"
   ]
  },
  {
   "cell_type": "markdown",
   "id": "d158e46c",
   "metadata": {},
   "source": [
    "#### Proof:"
   ]
  },
  {
   "cell_type": "markdown",
   "id": "fac376b6",
   "metadata": {},
   "source": [
    "By definition, $A \\setminus B $ represents the set of elements that are in $\\textbf{A}$ but not in $\\textbf{B}$: <br>\n",
    "\n",
    "$ A - B = \\{ x | x \\in A \\land x \\notin B\\} $ <br>\n",
    "\n",
    "Now let's consider $A \\cap B^c$, which represent the set elements that are in $\\textbf{A}$ and are not in $\\textbf{B}$: <br>\n",
    "\n",
    "$A \\cap B^c = \\{ x | x \\in A \\land x \\notin B\\} $ <br>\n",
    "\n",
    "Since there exists an $\\textbf{x}$ that is a member of both $\\textbf{A}$ and $\\textbf{B}$, it implies that $\\textbf{A}$ and $\\textbf{B}$ have atleast one common element. This means that for any element in $\\textbf{x}$ in $\\textbf{A}$, $\\textbf{x}$ is also in $\\textbf{B}$ <br>\n",
    "\n",
    "Therefore, for any element $\\textbf{x}$ in $\\textbf{A}$, $x \\notin \\textbf{B} $ if and only if $\\textbf{x}$ is not in the intersection of $\\textbf{A}$ and $\\textbf{B} $. In other words, $ x \\notin B$ is equivalent to $\\textbf{x} \\in B^c$\n",
    "\n",
    "Consequently, we have shown that $ A - B $ is equivalent to $ A \\cap B ^c $ in this context\n",
    "\n",
    "Thus, $ A - B = A \\cap B ^c $\n",
    "\n",
    "This concludes the proof, showing that $ A - B $ is equal to $ A \\cap B ^c $ when there exists an $x$ that is a member of both $\\textbf{A}$ and $\\textbf{B} $"
   ]
  },
  {
   "cell_type": "markdown",
   "id": "a0b95fb2",
   "metadata": {},
   "source": [
    "---"
   ]
  },
  {
   "cell_type": "markdown",
   "id": "9b1d7808",
   "metadata": {},
   "source": [
    "### 1.2 $B = (B \\cap A) \\cup (B \\cap A^c) $"
   ]
  },
  {
   "cell_type": "markdown",
   "id": "efaf56b2",
   "metadata": {},
   "source": [
    "#### Proof:"
   ]
  },
  {
   "cell_type": "markdown",
   "id": "ffed27c8",
   "metadata": {},
   "source": [
    "First, let's break down the right-hand side of the equation:\n",
    "\n",
    "$(B \\cap A) \\cup (B \\cap A^c) $ \n",
    "\n",
    "By the distributive property set union over set intersection, we can rewrite this as: $ B \\cup (B \\cap A^c) $ \n",
    "\n",
    "since $ B \\cap A\\subseteq B $, the union of $ B \\cap A $ and $ B \\cap A^c$ is the same as B\n",
    "\n",
    "So, $B = (B \\cap A) \\cup (B \\cap A^c) $ is true"
   ]
  },
  {
   "cell_type": "markdown",
   "id": "23cb5186",
   "metadata": {},
   "source": [
    "---"
   ]
  },
  {
   "cell_type": "markdown",
   "id": "e136ac0b",
   "metadata": {},
   "source": [
    "### 1.3 $ B \\setminus A = B \\cap A^c $"
   ]
  },
  {
   "cell_type": "markdown",
   "id": "98a9c161",
   "metadata": {},
   "source": [
    "#### Proof"
   ]
  },
  {
   "cell_type": "markdown",
   "id": "291e7171",
   "metadata": {},
   "source": [
    "$ B \\setminus A $ represents the set of elements in B that are not in A. This can also be written as $ B \\cap A^c $, which represents the intersection of B with the complement of A. The complement of A, denoted as $ A^c $, contains all elements that are not in $ A $\n",
    "\n",
    "So, by definition: \n",
    "\n",
    "$ B \\setminus A = \\{x|x \\in B \\land  x \\notin A\\} $\n",
    "\n",
    "And:  \n",
    "\n",
    "$ B \\cap A^c = \\{x|x \\in B \\land  x \\in A^c\\} $\n",
    "\n",
    "Since $ A^c $ contains all elements that are not in A, $ x $ being in $ A^c $ is equivalent to $ x $ not being in $ A $. Therefore, both sets are identical:\n",
    "\n",
    "$ B \\setminus A = B \\cap A^c $\n",
    "\n",
    "So, $ B \\setminus A $ id indeed equal to $ B \\cap A^c $"
   ]
  },
  {
   "cell_type": "markdown",
   "id": "2ea4b414",
   "metadata": {},
   "source": [
    "---"
   ]
  },
  {
   "cell_type": "markdown",
   "id": "2d456723",
   "metadata": {},
   "source": [
    "### 1.4 $ A \\cup B = A \\cup (B \\cap A^c) $"
   ]
  },
  {
   "cell_type": "markdown",
   "id": "ec90696a",
   "metadata": {},
   "source": [
    "#### Proof "
   ]
  },
  {
   "cell_type": "markdown",
   "id": "07c9c948",
   "metadata": {},
   "source": [
    "Let's break down both sides of the equation:\n",
    "\n",
    "On the left side, $ A \\cup B $ represents the union of set A with the intersection of B and the complement of $ A $, which means it contains all elements that are in $ A $ and all elements that are in both $ B $ and the complement of $ A $ .\n",
    "\n",
    "Now, let's consider the elements in each part of the right side:\n",
    "\n",
    "- $A$ contains all elements in $A$\n",
    "- $B \\cap A^c$ contains elements that are both $ B $ and the complement of $ A $\n",
    "\n",
    "Since the union ($\\cup$) includes all unique elements from both sets, the right side contains all elements from both $ A $ and $ B $ and does not repeat any elements.\n",
    "\n",
    "Therefore, $ A \\cup B = A \\cup (B \\cap A^c) $ is true since both sides represent the same set, which contains all elements that are in either $ A $ or $ B $ or in both."
   ]
  },
  {
   "cell_type": "markdown",
   "id": "b9244a06",
   "metadata": {},
   "source": [
    "---"
   ]
  },
  {
   "cell_type": "markdown",
   "id": "b1cff86e",
   "metadata": {},
   "source": [
    "### 1.5 $ \\textbf{U}_{i=1} ^\\infty A _{i} ^c = \\cap _{i=1} ^\\infty A _{i}$ "
   ]
  },
  {
   "cell_type": "markdown",
   "id": "0ed39f11",
   "metadata": {},
   "source": [
    "#### Proof "
   ]
  },
  {
   "cell_type": "markdown",
   "id": "4f77d8c1",
   "metadata": {},
   "source": [
    "To express that there exists an element $ x $ that is a member of both set $ A  $ and set $ B $:\n",
    "\n",
    "$\\exists x \\in A \\cap B$\n",
    "\n",
    "To represent the set complement and intersection of countable sets $ A _i $:\n",
    "\n",
    "$ \\bigcup_{i=1}^\\infty A_i^c = \\bigcap_{i=1}^\\infty A_i $ \n",
    "\n",
    "This states that the union of the complements of the sets $ A_i $ is equal to the intersection of the sets $ A_i $ for all possible values of \n",
    "$ i $ from 1 to infinity."
   ]
  },
  {
   "cell_type": "markdown",
   "id": "ac4ec3d1",
   "metadata": {},
   "source": [
    "---"
   ]
  },
  {
   "cell_type": "markdown",
   "id": "ca41a602",
   "metadata": {},
   "source": [
    "### 1.6 $ |A \\cup B | = |A| + |B| - | A \\cap B | $ "
   ]
  },
  {
   "cell_type": "markdown",
   "id": "d6669573",
   "metadata": {},
   "source": [
    "#### Proof "
   ]
  },
  {
   "cell_type": "markdown",
   "id": "9d7963f2",
   "metadata": {},
   "source": [
    "Definition of the cardinality of the union: \n",
    "\n",
    "$|A \\cup B| = |\\{x : x \\in A \\text{ or } x \\in B\\}|$\n"
   ]
  },
  {
   "cell_type": "markdown",
   "id": "4bc2163c",
   "metadata": {},
   "source": [
    "Definition of the cardinality of a set:\n",
    "$|A \\cup B| = \\text{number of elements in } A \\cup B$"
   ]
  },
  {
   "cell_type": "markdown",
   "id": "387d49e0",
   "metadata": {},
   "source": [
    "Application of Principle of Counting:\n",
    "    \n",
    "$|A \\cup B| $ = number of elements in $ A $ + number of elements in $ B $\n"
   ]
  },
  {
   "cell_type": "markdown",
   "id": "263266ef",
   "metadata": {},
   "source": [
    "Cardinality Notation:\n",
    "\n",
    "$|A \\cup B| = |A| + |B|$\n"
   ]
  },
  {
   "cell_type": "markdown",
   "id": "b95d1fae",
   "metadata": {},
   "source": [
    "Finally, subtract the cardinality of the intersection to complete the proof:\n",
    "\n",
    "$|A \\cup B| = |A| + |B| - |A \\cap B|$"
   ]
  },
  {
   "cell_type": "markdown",
   "id": "25123e5c",
   "metadata": {},
   "source": [
    "---"
   ]
  },
  {
   "cell_type": "markdown",
   "id": "5eb1f510",
   "metadata": {},
   "source": [
    "# 2. Sets and Subsets"
   ]
  },
  {
   "cell_type": "markdown",
   "id": "538fb8ba",
   "metadata": {},
   "source": [
    "### 2.1 If $A = \\{2, 3, 4, 5\\}$ and $B = \\{x \\in \\mathbb{N} \\mid x$ is even$\\}$. IS $A \\subset B$? "
   ]
  },
  {
   "cell_type": "markdown",
   "id": "4e17ad3f",
   "metadata": {},
   "source": [
    "#### Proof:"
   ]
  },
  {
   "cell_type": "markdown",
   "id": "711470d6",
   "metadata": {},
   "source": [
    "We want to show that $A \\subset B$, where\n",
    "$A = \\{2, 3, 4, 5\\}$\n",
    "and\n",
    "$B = \\{x \\in \\mathbb{N} \\mid x$ is even$\\}$.\n",
    "\n",
    "We will go through each element of $A$:\n",
    "\n",
    "- For $x = 2$, $x$ is even and a natural number, so $x$ is in set $B$.\n",
    "- For $x = 3$, $x$ is not even, so $x$ is not in set $B$.\n",
    "- For $x = 4$, $x$ is even and a natural number, so $x$ is in set $B$.\n",
    "- For $x = 5$, $x$ is not even, so $x$ is not in set $B$.\n",
    "\n",
    "Since every element of $ A $ is not necessarily an element of $ B $, we cannot say that $ A $ is a subset of $ B $. Specifically, the elements $ 3 $ and $ 5 $ from $ A $ are not elements of $ B $\n",
    "\n",
    "Therefore, I have shown that $ A $ is not a subset of $ B $:\n",
    "\n",
    "$ A \\not\\subset B $"
   ]
  },
  {
   "cell_type": "markdown",
   "id": "ac457cbe",
   "metadata": {},
   "source": [
    "--- "
   ]
  },
  {
   "cell_type": "markdown",
   "id": "d92a8172",
   "metadata": {},
   "source": [
    "### 2.2 "
   ]
  },
  {
   "cell_type": "markdown",
   "id": "22d5676f",
   "metadata": {},
   "source": [
    "#### Proof: "
   ]
  },
  {
   "cell_type": "markdown",
   "id": "d18371b4",
   "metadata": {},
   "source": [
    "##### We want to find a set $\\textbf{X}$ that meets the following conditions:"
   ]
  },
  {
   "cell_type": "markdown",
   "id": "fc0daef5",
   "metadata": {},
   "source": [
    "1. $\\textbf{X} \\cap \\textbf{B} = \\varnothing$ This means that X and B have no elements in common.\n",
    "\n",
    "2. $\\textbf{X} \\subseteq \\textbf{D} \\lor  \\textbf{X}\\notin\\textbf{B}$ This means that every element of X must also be an element of D, but X must have at least one element that is not in B.\n",
    "\n",
    "3. $\\textbf{X} \\subseteq \\textbf{A}  \\textbf{X} \\not\\subset \\textbf{C}$ This means that every element of X must also be an element of A, but X must have at least one element that is not in C."
   ]
  },
  {
   "cell_type": "markdown",
   "id": "a2255ecf",
   "metadata": {},
   "source": [
    "##### Constructing set $\\textbf{X}$  based on these conditions"
   ]
  },
  {
   "cell_type": "markdown",
   "id": "c5c30500",
   "metadata": {},
   "source": [
    "1. To ensure that $\\textbf{X} \\cap \\textbf{B} = \\varnothing$, we can't include any elements from $\\textbf{B}$ in $\\textbf{X}$\n",
    "\n",
    "2. To make $\\textbf{X} \\subseteq \\textbf{D}$ but $\\textbf{X}\\notin\\textbf{B}$, we can include any $\\subseteq (\\textbf{D} \\cap \\textbf{B} = \\varnothing$)\n",
    "\n",
    "      So, $\\textbf{X}$ can be:\n",
    "\n",
    "      $\\textbf{X} = \\{3\\}$ or $\\textbf{X} = \\{4\\}$ or $\\textbf{X} = \\{5\\} $ or       $\\textbf{X} = \\{3, 4, 5\\} $\n",
    "      \n",
    "3. For $\\textbf{X} \\subseteq \\textbf{A} \\land \\textbf{X} \\not\\subset \\textbf{C}$, we need to include any element in $\\textbf{A} \\cap \\textbf{C} = \\varnothing$. So it is possible that $\\textbf{X} = \\{0\\}.$"
   ]
  },
  {
   "cell_type": "markdown",
   "id": "b1bfd01d",
   "metadata": {},
   "source": [
    "##### Checking if each condition is satisfied:"
   ]
  },
  {
   "cell_type": "markdown",
   "id": "c64ff7b4",
   "metadata": {},
   "source": [
    "1. $\\textbf{X} \\cap \\textbf{B} = \\varnothing $ since $\\textbf{X} = \\{0\\} \n",
    " \\land \\textbf{B} = \\{2,4,6,8\\} $   have no elements in common, so this condition is satisfied. \n",
    " \n",
    "2. $\\textbf{X} \\subseteq \\textbf{D}$ but $\\textbf{X}\\notin\\textbf{B}$ since $\\textbf{X} = \\{0\\}$ while $\\textbf{D} = \\{3,4,5\\}$ and $\\textbf{X}\\notin\\textbf{B} = \\{2, 4, 6, 8\\}$ because $\\textbf{0}$ is not in $\\textbf{B}$ so this condition is satisfied.\n",
    "\n",
    "3. $\\textbf{X} \\subseteq \\textbf{A} $ since ($\\textbf{X} = \\{0\\})\\subseteq(\\textbf{A} = \\{0, 1, 2, 3, 4, 5, 6, 7, 8, 9\\})$ and  $\\textbf{X} \\not\\subset\\textbf{C}$ since $\\textbf{C} = \\{1,3,5,7,9\\}$ (because $\\textbf{0}$ is not in $\\textbf{C})$ $\\mid$ this condition is satisfied."
   ]
  },
  {
   "cell_type": "markdown",
   "id": "9100d171",
   "metadata": {},
   "source": [
    "Therefore, X satisfies all 3 conditions"
   ]
  },
  {
   "cell_type": "markdown",
   "id": "49a41f0e",
   "metadata": {},
   "source": [
    "---"
   ]
  },
  {
   "cell_type": "markdown",
   "id": "3b9cc963",
   "metadata": {},
   "source": [
    "# 3. Set Operations"
   ]
  },
  {
   "cell_type": "markdown",
   "id": "8befd27f",
   "metadata": {},
   "source": [
    "1. $C \\triangle D $\n",
    "2. $A \\setminus B $\n",
    "3. $B \\setminus A $\n",
    "4. $E \\triangle F $"
   ]
  },
  {
   "cell_type": "markdown",
   "id": "214e7506",
   "metadata": {},
   "source": [
    "---"
   ]
  },
  {
   "cell_type": "markdown",
   "id": "3cab118f",
   "metadata": {},
   "source": [
    "## 3.1 $C \\triangle D $ "
   ]
  },
  {
   "cell_type": "markdown",
   "id": "3d7fb111",
   "metadata": {},
   "source": [
    "### Manual Solution"
   ]
  },
  {
   "cell_type": "markdown",
   "id": "f9443a96",
   "metadata": {},
   "source": [
    "Let $\\textbf{C} = \\{5,6,7,8,9\\}$ and $\\textbf{D} = \\{1,3,5,7,9\\} $\n",
    "\n",
    "The symmetric difference between sets $\\textbf{C}$ and $\\textbf{D}$, denoted as $C \\triangle D $, is given by: <br> <br> $C \\triangle D = (C \\cup D) - (C \\cap D)$\n",
    "\n",
    "\n",
    "\n",
    "First, let's find $\\textbf{C} \\cup \\textbf{D} $ (the union of C and D) <br> <br> $\\textbf{C} \\cup \\textbf{D} = \\{1,3,5,6,7,8,9\\} $\n",
    "\n",
    "Next, Let's find $\\textbf{C} \\cap \\textbf{D} $ (the intersection of C and D) <br><br> \n",
    "\n",
    "\n",
    "$\\textbf{C} \\cap \\textbf{D} = \\{5,7,9\\} $\n",
    "\n",
    "Now, subtract the intersection from the union to find the symmetric difference: <br> <br>\n",
    "\n",
    "$\\textbf{C} \\setminus \\textbf{D} = \\{5,7,9\\} $\n"
   ]
  },
  {
   "cell_type": "markdown",
   "id": "2db549ff",
   "metadata": {},
   "source": [
    "So, the symmetric Difference between sets $\\textbf{C} $ and  $\\textbf{D} $ is\n",
    "$ \\{1,3,6,8\\} $"
   ]
  },
  {
   "cell_type": "markdown",
   "id": "f2fcde85",
   "metadata": {},
   "source": [
    "### Pythonic Solution"
   ]
  },
  {
   "cell_type": "code",
   "execution_count": 3,
   "id": "b4da69fe",
   "metadata": {},
   "outputs": [
    {
     "name": "stdout",
     "output_type": "stream",
     "text": [
      "{1, 3, 6, 8}\n"
     ]
    }
   ],
   "source": [
    "C = {5, 6, 7, 8, 9}\n",
    "D = {1, 3, 5, 7, 9}\n",
    "\n",
    "symmetric_difference = C.symmetric_difference(D)\n",
    "\n",
    "print(symmetric_difference)"
   ]
  },
  {
   "cell_type": "markdown",
   "id": "9cc15c05",
   "metadata": {},
   "source": [
    "When you run this code, it will output: <br> \n",
    "$ \\{1,3,6,8\\} $"
   ]
  },
  {
   "cell_type": "markdown",
   "id": "041bacc7",
   "metadata": {},
   "source": [
    "As you can see, the Pythonic solution matches the manual solution, and the symmetric difference between sets $\\textbf{C}$ and $\\textbf{D}$ is $\\{1,3,6,8\\}$"
   ]
  },
  {
   "cell_type": "markdown",
   "id": "8c95b750",
   "metadata": {},
   "source": [
    "---"
   ]
  },
  {
   "cell_type": "markdown",
   "id": "2bd79c07",
   "metadata": {},
   "source": [
    "## 3.2 $A \\setminus B $"
   ]
  },
  {
   "cell_type": "markdown",
   "id": "8127f027",
   "metadata": {},
   "source": [
    "### Manual Solution"
   ]
  },
  {
   "cell_type": "markdown",
   "id": "12c558bb",
   "metadata": {},
   "source": [
    "Let $ \\textbf{A} = \\{1,2,3,4,5\\} $ and $ \\textbf{B} = \\{4,5,6,7\\} $\n",
    "\n",
    "The set difference between sets $ \\textbf{A} $ and $ \\textbf{B} $, denoted as $A \\setminus B $, is given by:\n",
    " \n",
    "$A \\setminus B = \\{x | x \\in \\textbf{A} \\land x \\notin \\textbf{B} \\} $\n",
    " \n",
    "We need to find the elements that are in $ A  $ but not in $ B $.\n",
    "\n",
    "So, $A \\setminus B = \\{1,2,3\\}$"
   ]
  },
  {
   "cell_type": "markdown",
   "id": "baadab4b",
   "metadata": {},
   "source": [
    "### Pythonic Solution"
   ]
  },
  {
   "cell_type": "markdown",
   "id": "31b8c72a",
   "metadata": {},
   "source": [
    "Here's the Python code to find the difference between set $\\textbf{A}$ and set $\\textbf{B}$:"
   ]
  },
  {
   "cell_type": "code",
   "execution_count": 4,
   "id": "35daab6c",
   "metadata": {},
   "outputs": [
    {
     "name": "stdout",
     "output_type": "stream",
     "text": [
      "{1, 2, 3}\n"
     ]
    }
   ],
   "source": [
    "A = {1, 2, 3, 4, 5}\n",
    "B = {4, 5, 6, 7}\n",
    "\n",
    "difference = A - B\n",
    "\n",
    "print(difference)"
   ]
  },
  {
   "cell_type": "markdown",
   "id": "f266056a",
   "metadata": {},
   "source": [
    "When you run this code, it will output: <br>\n",
    " $\\{1,2,3\\}$"
   ]
  },
  {
   "cell_type": "markdown",
   "id": "2a43ad6d",
   "metadata": {},
   "source": [
    "As you can see, the Pythonic solution matches the manual solution, and the set difference between set $\\textbf{A}$ and set $\\textbf{B}$ is $\\{1,2,3\\}$"
   ]
  },
  {
   "cell_type": "markdown",
   "id": "aaa9bc1b",
   "metadata": {},
   "source": [
    "## 3.3 $B \\setminus A $"
   ]
  },
  {
   "cell_type": "markdown",
   "id": "d33e2aa1",
   "metadata": {},
   "source": [
    "### Manual Solution "
   ]
  },
  {
   "cell_type": "markdown",
   "id": "e4cc9bb5",
   "metadata": {},
   "source": [
    "Let $ \\textbf{A} = \\{1,2,3,4,5\\} $ and $ \\textbf{B} = \\{4,5,6,7\\} $\n",
    "\n",
    "The set difference between sets $\\textbf{B}$ and $\\textbf{A}$, denoted by $B \\setminus A $ is given by:\n",
    "\n",
    "$B \\setminus A = \\{ x | x \\in \\textbf{B} \\land x \\notin \\textbf{A}\\} $\n",
    "\n",
    "We need to find the elements that are in $\\textbf{B}$ and not in $\\textbf{A}$\n",
    "\n",
    "so $B \\setminus A = \\{6,7\\} $"
   ]
  },
  {
   "cell_type": "markdown",
   "id": "4d9f3f00",
   "metadata": {},
   "source": [
    "### Pythonic Solution"
   ]
  },
  {
   "cell_type": "markdown",
   "id": "f37789dc",
   "metadata": {},
   "source": [
    "Here's the Python code to find the difference between set $\\textbf{B}$ and in $\\textbf{A}$"
   ]
  },
  {
   "cell_type": "code",
   "execution_count": 6,
   "id": "e2ee5940",
   "metadata": {},
   "outputs": [
    {
     "name": "stdout",
     "output_type": "stream",
     "text": [
      "{6, 7}\n"
     ]
    }
   ],
   "source": [
    "A = {1, 2, 3, 4, 5}\n",
    "B = {4, 5, 6, 7}\n",
    "\n",
    "difference = B - A\n",
    "\n",
    "print(difference)"
   ]
  },
  {
   "cell_type": "markdown",
   "id": "99d40528",
   "metadata": {},
   "source": [
    "When you run this code, it will output: <br>\n",
    "$\\{6,7\\} $"
   ]
  },
  {
   "cell_type": "markdown",
   "id": "4901a502",
   "metadata": {},
   "source": [
    "As you can see, the Pythonic solution matches the manual solution, and the set difference between set $\\textbf{B}$ and set $\\textbf{A}$ is $\\{6,7\\}$\n"
   ]
  },
  {
   "cell_type": "markdown",
   "id": "6dc02b85",
   "metadata": {},
   "source": [
    "---"
   ]
  },
  {
   "cell_type": "markdown",
   "id": "1a464b02",
   "metadata": {},
   "source": [
    "## 3.4 $E \\triangle F $"
   ]
  },
  {
   "cell_type": "markdown",
   "id": "e2cb051c",
   "metadata": {},
   "source": [
    "### Manual Solution"
   ]
  },
  {
   "cell_type": "markdown",
   "id": "025ff564",
   "metadata": {},
   "source": [
    "Let $\\textbf{E} = \\{2,4,6,8\\}$ and $\\textbf{F} = \\{1,5,9\\} $\n",
    "\n",
    "The symmetric difference between sets $\\textbf{E}$ and $\\textbf{F}$, denoted as $E \\triangle F $ is given by: \n",
    "\n",
    "$E \\triangle F = (\\textbf{E} \\cup \\textbf{F}) - (\\textbf{E} \\cap \\textbf{F}) $\n",
    "\n",
    "First, let's find $\\textbf{E} \\cup \\textbf{F}$ (the intersection of E and F):<br>\n",
    "$\\textbf{E} \\cup \\textbf{F} = \\{1,2,4,5,6,8,9\\} $\n",
    "\n",
    "Next, let's find $\\textbf{E} \\cap \\textbf{F}$ <br>\n",
    "$\\textbf{E} \\cap \\textbf{F} = \\{\\}$\n",
    "\n",
    "Now, subtract the intersection from the union to find the symmetric difference:\n",
    "\n",
    "$(\\textbf{E} \\cup \\textbf{F}) - (\\textbf{E} \\cap \\textbf{F}) = \\{1,2,4,5,6,8,9\\} $\n",
    "\n",
    "So, the symmetric difference between sets $\\textbf{E}$ and $\\textbf{F}$ is $ \\{1,2,4,5,6,8,9\\} $"
   ]
  },
  {
   "cell_type": "markdown",
   "id": "92f9f25f",
   "metadata": {},
   "source": [
    "### Pythonic Solution"
   ]
  },
  {
   "cell_type": "markdown",
   "id": "b38000bf",
   "metadata": {},
   "source": [
    "Here's the Python code to find the symmetric difference between set E and set F:"
   ]
  },
  {
   "cell_type": "code",
   "execution_count": null,
   "id": "0d768898",
   "metadata": {},
   "outputs": [],
   "source": [
    "E = {2, 4, 6, 8}\n",
    "F = {1, 5, 9}\n",
    "\n",
    "symmetric_difference = E.symmetric_difference(F)\n",
    "\n",
    "print(symmetric_difference)"
   ]
  },
  {
   "cell_type": "markdown",
   "id": "8961e503",
   "metadata": {},
   "source": [
    "When you run this code, it will output: <br>\n",
    " $ \\{1,2,4,5,6,8,9\\} $"
   ]
  },
  {
   "cell_type": "markdown",
   "id": "487fb3dc",
   "metadata": {},
   "source": [
    "As you can see, the Pythonic solution matches the manual solution, and the symmetric difference between sets $\\textbf{E}$ and $\\textbf{F}$ is $ \\{1,2,4,5,6,8,9\\} $"
   ]
  },
  {
   "cell_type": "markdown",
   "id": "4e351b05",
   "metadata": {},
   "source": [
    "---"
   ]
  },
  {
   "cell_type": "markdown",
   "id": "cabe10cb",
   "metadata": {},
   "source": [
    "# 4. Finite Sets and The Counting Principles"
   ]
  },
  {
   "cell_type": "markdown",
   "id": "525d6c0e",
   "metadata": {},
   "source": [
    "## 4.1 Survey of 120 People"
   ]
  },
  {
   "cell_type": "code",
   "execution_count": null,
   "id": "64219f66",
   "metadata": {},
   "outputs": [],
   "source": [
    "!pip install matplotlib"
   ]
  },
  {
   "cell_type": "code",
   "execution_count": null,
   "id": "3a398cbe",
   "metadata": {},
   "outputs": [],
   "source": [
    "!pip install matplotlib-venn"
   ]
  },
  {
   "cell_type": "code",
   "execution_count": 7,
   "id": "4b9bd1b4",
   "metadata": {},
   "outputs": [
    {
     "data": {
      "image/png": "[encoded data removed]",
      "text/plain": [
       "<Figure size 640x480 with 1 Axes>"
      ]
     },
     "metadata": {},
     "output_type": "display_data"
    },
    {
     "name": "stdout",
     "output_type": "stream",
     "text": [
      "Number of people who read at least one magazine: 100\n",
      "Number of people who read exactly one magazine: 56\n"
     ]
    }
   ],
   "source": [
    "from matplotlib_venn import venn3\n",
    "import matplotlib.pyplot as plt\n",
    "\n",
    "# Given data\n",
    "total_people = 120\n",
    "newsweek_readers = 65\n",
    "times_readers = 45\n",
    "fortune_readers = 42\n",
    "newsweek_and_times = 20\n",
    "newsweek_and_fortune = 25\n",
    "times_and_fortune = 15\n",
    "all_three = 8\n",
    "\n",
    "# Calculate the number of people who read at least one magazine\n",
    "at_least_one = (\n",
    "    newsweek_readers +\n",
    "    times_readers +\n",
    "    fortune_readers -\n",
    "    newsweek_and_times -\n",
    "    newsweek_and_fortune -\n",
    "    times_and_fortune +\n",
    "    all_three\n",
    ")\n",
    "\n",
    "# Calculate the number of people who read exactly one magazine\n",
    "exactly_one = (\n",
    "    (newsweek_readers - newsweek_and_times - newsweek_and_fortune + all_three) +\n",
    "    (times_readers - newsweek_and_times - times_and_fortune + all_three) +\n",
    "    (fortune_readers - newsweek_and_fortune - times_and_fortune + all_three)\n",
    ")\n",
    "\n",
    "# Create the Venn diagram\n",
    "venn = venn3(subsets=(newsweek_readers - newsweek_and_times - newsweek_and_fortune + all_three,\n",
    "                      times_readers - newsweek_and_times - times_and_fortune + all_three,\n",
    "                      fortune_readers - newsweek_and_fortune - times_and_fortune + all_three,\n",
    "                      newsweek_and_times - all_three,\n",
    "                      newsweek_and_fortune - all_three,\n",
    "                      times_and_fortune - all_three,\n",
    "                      all_three),\n",
    "             set_labels=('Newsweek', 'Times', 'Fortune'))\n",
    "\n",
    "# Add labels\n",
    "venn.get_label_by_id('100').set_text(str(newsweek_readers - newsweek_and_times - newsweek_and_fortune + all_three))\n",
    "venn.get_label_by_id('010').set_text(str(times_readers - newsweek_and_times - times_and_fortune + all_three))\n",
    "venn.get_label_by_id('001').set_text(str(fortune_readers - newsweek_and_fortune - times_and_fortune + all_three))\n",
    "venn.get_label_by_id('110').set_text(str(newsweek_and_times - all_three))\n",
    "venn.get_label_by_id('101').set_text(str(newsweek_and_fortune - all_three))\n",
    "venn.get_label_by_id('011').set_text(str(times_and_fortune - all_three))\n",
    "venn.get_label_by_id('111').set_text(str(all_three))\n",
    "\n",
    "# Display the Venn diagram\n",
    "plt.title(\"Venn Diagram of Magazine Readers\")\n",
    "plt.show()\n",
    "\n",
    "# Output results\n",
    "print(\"Number of people who read at least one magazine:\", at_least_one)\n",
    "print(\"Number of people who read exactly one magazine:\", exactly_one)\n"
   ]
  },
  {
   "cell_type": "markdown",
   "id": "a086f9e7",
   "metadata": {},
   "source": [
    "---"
   ]
  },
  {
   "cell_type": "markdown",
   "id": "8260ed5d",
   "metadata": {},
   "source": [
    "## 4.2 In a Survey of 25 new cars"
   ]
  },
  {
   "cell_type": "code",
   "execution_count": 8,
   "id": "0f59eda2",
   "metadata": {},
   "outputs": [
    {
     "data": {
      "image/png": "[encoded data removed]",
      "text/plain": [
       "<Figure size 640x480 with 1 Axes>"
      ]
     },
     "metadata": {},
     "output_type": "display_data"
    }
   ],
   "source": [
    "import matplotlib.pyplot as plt\n",
    "from matplotlib_venn import venn3\n",
    "\n",
    "# Define the sizes of the sets\n",
    "A_size = 15\n",
    "R_size = 12\n",
    "W_size = 11\n",
    "A_W_size = 5\n",
    "A_R_size = 9\n",
    "R_W_size = 4\n",
    "All_options_size = 3\n",
    "\n",
    "# Create a Venn diagram\n",
    "venn = venn3(subsets=(A_size, R_size, A_R_size, W_size, A_W_size, R_W_size, All_options_size),\n",
    "             set_labels=('A', 'R', 'W'))\n",
    "\n",
    "# Display the diagram\n",
    "plt.title(\"Venn Diagram of Car Options\")\n",
    "plt.show()"
   ]
  },
  {
   "cell_type": "markdown",
   "id": "848e80a0",
   "metadata": {},
   "source": [
    "##### 1. Find the number of W cars only:"
   ]
  },
  {
   "cell_type": "markdown",
   "id": "510c1a76",
   "metadata": {},
   "source": [
    "To find the number of cars with W only, we can subtract the cars that have both $ A $ and $ W $, as well as those that have both $ R $ and $ W $ from the total number of cars with $ W $\n",
    "\n",
    "$\\textbf{W}$ only $ = 11 - 4 - 5 = 2 $\n",
    "\n",
    "\n",
    "\n"
   ]
  },
  {
   "cell_type": "markdown",
   "id": "ab2d4093",
   "metadata": {},
   "source": [
    "##### 2. Find the number of cars with $ A $ only:"
   ]
  },
  {
   "cell_type": "markdown",
   "id": "08df1f3c",
   "metadata": {},
   "source": [
    "To find the number of cars with $ A $ only, we can subtract the cars that have both A and R, as well as those that have both $ A $ and $ W $ from the total number of cars with $ A $\n",
    "\n",
    "$\\textbf{A}$ only $ = 15 - 9 - 5 = 1 $"
   ]
  },
  {
   "cell_type": "markdown",
   "id": "e29e4524",
   "metadata": {},
   "source": [
    "##### 3. Find the number of cars with $ R $ only:"
   ]
  },
  {
   "cell_type": "markdown",
   "id": "7e1e12f4",
   "metadata": {},
   "source": [
    "To find the number of cars with $ R $ only, we can subtract the cars that have both $ A $ and $ R $, as well as those that have both $ R $ and $ W $ from the total number of cars with $ R $ \n",
    "\n",
    "$\\textbf{R}$ only $ = 12 - 9 - 4 = -1$ (This indicates that there are no cars with $ R $ only"
   ]
  },
  {
   "cell_type": "markdown",
   "id": "721044c2",
   "metadata": {},
   "source": [
    "##### 4. Find the number of cars with both $ R $ and $ W $ but not $ A $"
   ]
  },
  {
   "cell_type": "markdown",
   "id": "64a5b548",
   "metadata": {},
   "source": [
    "To find the number of cars with both $ R $ and $ W $ but not $ A $, we can subtract the cars that have all three options from the cars that have both $ R $ and $ W $\n",
    "\n",
    "$\\textbf{R}$ and $\\textbf{W}$ but not $\\textbf{A}$ $ = 4 - 3 = 1 $"
   ]
  },
  {
   "cell_type": "markdown",
   "id": "c8ca61a8",
   "metadata": {},
   "source": [
    "##### 5. Find the number of cars with both $ A $ and $ R $ but not $ W $"
   ]
  },
  {
   "cell_type": "markdown",
   "id": "40f777f1",
   "metadata": {},
   "source": [
    "To find the number of cars with both $ A $ and $ R $ but not $ W $, we can subtract the cars that have all 3 options from the cars that have both $ A $ and $ R $ \n",
    "\n",
    "$\\textbf{A}$ and $\\textbf{R}$ but not $\\textbf{W}$ $ = 9 - 3 = 6 $"
   ]
  },
  {
   "cell_type": "markdown",
   "id": "5c26abc9",
   "metadata": {},
   "source": [
    "##### 6. Find the number of cars with only one of the options"
   ]
  },
  {
   "cell_type": "markdown",
   "id": "1a8de838",
   "metadata": {},
   "source": [
    "To find the number of cars with only one of the options, we can add the number of cars with $ A $ only, $ R $ only, $ W $ only.\n",
    "\n",
    "$ A $ only + $ R $ only + $ W $ only $ = 1 + (-1) + 2 = 2 $"
   ]
  },
  {
   "cell_type": "markdown",
   "id": "94151604",
   "metadata": {},
   "source": [
    "##### 7. Find the number of cars with at least one option"
   ]
  },
  {
   "cell_type": "markdown",
   "id": "82049592",
   "metadata": {},
   "source": [
    "To find the number of cars with at least one option, we can add the number of cars with $ A $ only, $ R $ only, $ W $ only, and all three options.\n",
    "\n",
    "$ A $ only + $ R $ only + $ W $ only + $ \\textbf {All Options} $ $ = 1 + (-1) + 2 + 3 = 5 $"
   ]
  },
  {
   "cell_type": "markdown",
   "id": "8623d738",
   "metadata": {},
   "source": [
    "##### 8. Find the number of cars with none of the options\n"
   ]
  },
  {
   "cell_type": "markdown",
   "id": "eeed1d13",
   "metadata": {},
   "source": [
    "To find the number of cars with none of the options, we can subtract  the nyumbr of cars with atleast one option from the total number of cars\n",
    "\n",
    "$\\textbf{None of the options}$ $ = 25 - 5 = 20 $"
   ]
  },
  {
   "cell_type": "markdown",
   "id": "f7bfcf1b",
   "metadata": {},
   "source": [
    "So, here are the answers to each question:\n",
    "    \n",
    "1. Number of cars with $ W $ only: 2\n",
    "2. Number of cars with $ A $ only: 1\n",
    "3. Number of cars with $ R $ only: 0 (No cars have $ R $ only)\n",
    "4. Number of cars with both $ R $ and $ W $ but not $ A $: 1\n",
    "5. Number of cars with both $ A $ and $ R $ but not $ W $: 6\n",
    "6. Number of cars with only $\\textbf{one of the options} $: 2\n",
    "7. Number of cars with at $\\textbf{least one option} $: 5\n",
    "8. Number of cars with $\\textbf{none of the options} $: 20"
   ]
  },
  {
   "cell_type": "code",
   "execution_count": null,
   "id": "63e4bf6a",
   "metadata": {},
   "outputs": [],
   "source": []
  }
 ],
 "metadata": {
  "kernelspec": {
   "display_name": "Python 3 (ipykernel)",
   "language": "python",
   "name": "python3"
  },
  "language_info": {
   "codemirror_mode": {
    "name": "ipython",
    "version": 3
   },
   "file_extension": ".py",
   "mimetype": "text/x-python",
   "name": "python",
   "nbconvert_exporter": "python",
   "pygments_lexer": "ipython3",
   "version": "3.11.4"
  }
 },
 "nbformat": 4,
 "nbformat_minor": 5
}
